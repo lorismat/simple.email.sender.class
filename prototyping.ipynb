{
 "cells": [
  {
   "cell_type": "markdown",
   "metadata": {},
   "source": [
    "# General Doc on SMTP\n",
    "\n",
    "**Simple Mail Transfer Protocol**  \n",
    "\n",
    "The SMTP server has an address. This address is specific to the service you are using (gmail address: `smtp.gmail.com`).  \n",
    "\n",
    "The recipient’s inbox service provider, like `gmail` will download your message and place it in the inbox.  \n",
    "\n",
    "The server goals are exclusively to: send, receive, and relay emails. These servers are constantly running.  \n",
    "\n",
    "The SMTP server takes care of protecting you from illegitimate emails and will send you back the email if the recipient's address does not exist.  \n",
    "\n",
    "**Use cases:**  \n",
    "- Send emails from your website\n",
    "- Schedule mass emails easily\n",
    "\n",
    "**Beware!**\n",
    "- SMTP cannot transfer email attachments! _Multipurpose Internet Mail Extension_ (MIME) protocol is a workaround for this. MIME encodes all non-text data into text before sending the email through SMTP.\n",
    "\n",
    "## Code\n",
    "\n",
    "- [smtplib doc](https://docs.python.org/3/library/smtplib.html)  \n",
    "\n",
    "## Source\n",
    "\n",
    "- [What is SMTP](https://sendgrid.com/blog/what-is-an-smtp-server/)\n",
    "- [Setting up Gmail SMTP](https://www.gmass.co/blog/gmail-smtp/)\n",
    "\n",
    "## Alternatives\n",
    "\n",
    "- [Flask mails](https://flask-mail.readthedocs.io/en/latest/)\n",
    "\n",
    "## Working with classes\n",
    "\n",
    "- [15min video about Object-Oriented Programming](https://youtu.be/pnWINBJ3-yA)"
   ]
  },
  {
   "cell_type": "code",
   "execution_count": 22,
   "metadata": {},
   "outputs": [],
   "source": [
    "import smtplib\n",
    "from email.mime.multipart import MIMEMultipart\n",
    "from email.mime.text import MIMEText"
   ]
  },
  {
   "cell_type": "code",
   "execution_count": 45,
   "metadata": {},
   "outputs": [],
   "source": [
    "class email_sender:\n",
    "    \n",
    "    def __init__(self, domain, port, login, pwd):\n",
    "        \"\"\"\n",
    "        Pass it the SMTP domain and SMTP port\n",
    "        \"\"\"\n",
    "        self.domain = domain\n",
    "        self.port = port\n",
    "        self.login = login\n",
    "        self.pwd = pwd\n",
    "        \n",
    "    def send(self, sender, receiver, subject, body, css=None):\n",
    "        \"\"\"\n",
    "        Send email\n",
    "        ------ Parameters:\n",
    "        sender: sender\n",
    "        receiver: receiver\n",
    "        subject: email subject\n",
    "        body: your HTML body\n",
    "        css: optional. CSS style sheet. Example:\n",
    "                h1 {\n",
    "                    font-weight: bold;\n",
    "                    color: #111\n",
    "                }\n",
    "        \"\"\"\n",
    "        \n",
    "        # create msg container\n",
    "        msg = MIMEMultipart('alternative')\n",
    "        msg['Subject'] = subject\n",
    "        msg['From'] = sender\n",
    "        msg['To'] = receiver\n",
    "        \n",
    "        html = \"\"\"<head><style>{0}</style>\n",
    "                </head><body>{1}</body>\"\"\".format(css,body)\n",
    "        \n",
    "        part = MIMEText(html, 'html')\n",
    "        msg.attach(part)\n",
    "\n",
    "        server = smtplib.SMTP(self.domain, self.port)\n",
    "        server.connect(self.domain,self.port)\n",
    "        # ehlo method is required to authenticate \n",
    "        server.ehlo()\n",
    "        # starttls is mandatory to work with gmail SMTP, either SSL/TLS\n",
    "        server.starttls()\n",
    "        server.login(self.login,self.pwd)\n",
    "        server.sendmail(sender,receiver,msg.as_string())\n",
    "        server.quit()"
   ]
  },
  {
   "cell_type": "code",
   "execution_count": 46,
   "metadata": {},
   "outputs": [],
   "source": [
    "my_sender = email_sender(\"smtp.gmail.com\",587,\"xxx\",\"xxx\")"
   ]
  },
  {
   "cell_type": "code",
   "execution_count": 47,
   "metadata": {},
   "outputs": [],
   "source": [
    "html = \"\"\"\n",
    "<h1>hello</h1>\n",
    "\"\"\"\n",
    "css = \"\"\"\n",
    "h1 {\n",
    "    font-weight:bold;\n",
    "    color: purple;\n",
    "}\n",
    "\"\"\""
   ]
  },
  {
   "cell_type": "code",
   "execution_count": 48,
   "metadata": {},
   "outputs": [],
   "source": [
    "my_sender.send(\"xxx\",\"xxx\",\"subject\",html,css)"
   ]
  }
 ],
 "metadata": {
  "kernelspec": {
   "display_name": "Python 3",
   "language": "python",
   "name": "python3"
  },
  "language_info": {
   "codemirror_mode": {
    "name": "ipython",
    "version": 3
   },
   "file_extension": ".py",
   "mimetype": "text/x-python",
   "name": "python",
   "nbconvert_exporter": "python",
   "pygments_lexer": "ipython3",
   "version": "3.6.10"
  }
 },
 "nbformat": 4,
 "nbformat_minor": 2
}
